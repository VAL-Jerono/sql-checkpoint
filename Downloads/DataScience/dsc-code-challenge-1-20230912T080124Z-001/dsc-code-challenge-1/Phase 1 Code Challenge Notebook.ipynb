{
 "cells": [
  {
   "cell_type": "markdown",
   "metadata": {
    "deletable": false,
    "editable": false,
    "nbgrader": {
     "cell_type": "markdown",
     "checksum": "29e3f9ed342e3a98e47148b257d1d38b",
     "grade": false,
     "grade_id": "cell-1dc8c072d516f820",
     "locked": true,
     "schema_version": 3,
     "solution": false,
     "task": false
    }
   },
   "source": [
    "# Phase 1 Code Challenge\n",
    "This code challenge is designed to test your understanding of the Phase 1 material. It covers:\n",
    "\n",
    "- Pandas\n",
    "- Data Visualization\n",
    "- Exploring Statistical Data\n",
    "- Python Data Structures\n",
    "\n",
    "*Read the instructions carefully.* Your code will need to meet detailed specifications to pass automated tests.\n",
    "\n",
    "## Code Tests\n",
    "\n",
    "We have provided some code tests for you to run to check that your work meets the item specifications. Passing these tests does not necessarily mean that you have gotten the item correct - there are additional hidden tests. However, if any of the tests do not pass, this tells you that your code is incorrect and needs changes to meet the specification. To determine what the issue is, read the comments in the code test cells, the error message you receive, and the item instructions."
   ]
  },
  {
   "cell_type": "markdown",
   "metadata": {
    "deletable": false,
    "editable": false,
    "nbgrader": {
     "cell_type": "markdown",
     "checksum": "70716b95dc5bccd49998cd5a7d3da369",
     "grade": false,
     "grade_id": "cell-9cdee0770b4e45d9",
     "locked": true,
     "schema_version": 3,
     "solution": false,
     "task": false
    }
   },
   "source": [
    "---\n",
    "## Part 1: Pandas [Suggested Time: 15 minutes]\n",
    "---\n",
    "In this part, you will preprocess a dataset from the video game [FIFA19](https://www.kaggle.com/karangadiya/fifa19), which contains data from the players' real-life careers."
   ]
  },
  {
   "cell_type": "code",
   "execution_count": 53,
   "metadata": {
    "deletable": false,
    "editable": false,
    "nbgrader": {
     "cell_type": "code",
     "checksum": "53062e369476dd6485a0154dbd9b76fb",
     "grade": false,
     "grade_id": "cell-6b5542e3f39ef221",
     "locked": true,
     "schema_version": 3,
     "solution": false,
     "task": false
    }
   },
   "outputs": [],
   "source": [
    "# Run this cell\n",
    "\n",
    "import pandas as pd\n",
    "import numpy as np\n",
    "from numbers import Number\n",
    "import warnings\n",
    "warnings.filterwarnings('ignore')"
   ]
  },
  {
   "cell_type": "markdown",
   "metadata": {
    "deletable": false,
    "editable": false,
    "nbgrader": {
     "cell_type": "markdown",
     "checksum": "141011a44dac97e104325c7e76e90c86",
     "grade": false,
     "grade_id": "cell-b9b25e040991b1e6",
     "locked": true,
     "schema_version": 3,
     "solution": false,
     "task": false
    }
   },
   "source": [
    "### 1.1) Read `fifa.csv` into a pandas DataFrame named `df`\n",
    "\n",
    "Use pandas to create a new DataFrame, called `df`, containing the data from the dataset in the file `fifa.csv` in the folder containing this notebook. \n",
    "\n",
    "Hint: Use the string `'./fifa.csv'` as the file reference."
   ]
  },
  {
   "cell_type": "markdown",
   "metadata": {
    "deletable": false,
    "editable": false,
    "nbgrader": {
     "cell_type": "markdown",
     "checksum": "bb6f838080f5124f5dfc3a02bac8034a",
     "grade": false,
     "grade_id": "cell-18fbca9dcea2ebbd",
     "locked": true,
     "schema_version": 3,
     "solution": false,
     "task": false
    },
    "scrolled": true
   },
   "source": [
    "**Starter Code**\n",
    "\n",
    "    df = "
   ]
  },
  {
   "cell_type": "code",
   "execution_count": 54,
   "metadata": {
    "deletable": false,
    "nbgrader": {
     "cell_type": "code",
     "checksum": "3ab40d0eaf6bef222b99d7c6ec9937e6",
     "grade": false,
     "grade_id": "cell-cf9f259ed8f4b909",
     "locked": false,
     "schema_version": 3,
     "solution": true,
     "task": false
    }
   },
   "outputs": [
    {
     "data": {
      "text/html": [
       "<div>\n",
       "<style scoped>\n",
       "    .dataframe tbody tr th:only-of-type {\n",
       "        vertical-align: middle;\n",
       "    }\n",
       "\n",
       "    .dataframe tbody tr th {\n",
       "        vertical-align: top;\n",
       "    }\n",
       "\n",
       "    .dataframe thead th {\n",
       "        text-align: right;\n",
       "    }\n",
       "</style>\n",
       "<table border=\"1\" class=\"dataframe\">\n",
       "  <thead>\n",
       "    <tr style=\"text-align: right;\">\n",
       "      <th></th>\n",
       "      <th>ID</th>\n",
       "      <th>Name</th>\n",
       "      <th>Age</th>\n",
       "      <th>Photo</th>\n",
       "      <th>Nationality</th>\n",
       "      <th>Flag</th>\n",
       "      <th>Overall</th>\n",
       "      <th>Potential</th>\n",
       "      <th>Club</th>\n",
       "      <th>Club Logo</th>\n",
       "      <th>...</th>\n",
       "      <th>Composure</th>\n",
       "      <th>Marking</th>\n",
       "      <th>StandingTackle</th>\n",
       "      <th>SlidingTackle</th>\n",
       "      <th>GKDiving</th>\n",
       "      <th>GKHandling</th>\n",
       "      <th>GKKicking</th>\n",
       "      <th>GKPositioning</th>\n",
       "      <th>GKReflexes</th>\n",
       "      <th>Release Clause</th>\n",
       "    </tr>\n",
       "  </thead>\n",
       "  <tbody>\n",
       "    <tr>\n",
       "      <th>0</th>\n",
       "      <td>158023</td>\n",
       "      <td>L. Messi</td>\n",
       "      <td>31</td>\n",
       "      <td>https://cdn.sofifa.org/players/4/19/158023.png</td>\n",
       "      <td>Argentina</td>\n",
       "      <td>https://cdn.sofifa.org/flags/52.png</td>\n",
       "      <td>94</td>\n",
       "      <td>94</td>\n",
       "      <td>FC Barcelona</td>\n",
       "      <td>https://cdn.sofifa.org/teams/2/light/241.png</td>\n",
       "      <td>...</td>\n",
       "      <td>96.0</td>\n",
       "      <td>33.0</td>\n",
       "      <td>28.0</td>\n",
       "      <td>26.0</td>\n",
       "      <td>6.0</td>\n",
       "      <td>11.0</td>\n",
       "      <td>15.0</td>\n",
       "      <td>14.0</td>\n",
       "      <td>8.0</td>\n",
       "      <td>226500.0</td>\n",
       "    </tr>\n",
       "    <tr>\n",
       "      <th>1</th>\n",
       "      <td>20801</td>\n",
       "      <td>Cristiano Ronaldo</td>\n",
       "      <td>33</td>\n",
       "      <td>https://cdn.sofifa.org/players/4/19/20801.png</td>\n",
       "      <td>Portugal</td>\n",
       "      <td>https://cdn.sofifa.org/flags/38.png</td>\n",
       "      <td>94</td>\n",
       "      <td>94</td>\n",
       "      <td>Juventus</td>\n",
       "      <td>https://cdn.sofifa.org/teams/2/light/45.png</td>\n",
       "      <td>...</td>\n",
       "      <td>95.0</td>\n",
       "      <td>28.0</td>\n",
       "      <td>31.0</td>\n",
       "      <td>23.0</td>\n",
       "      <td>7.0</td>\n",
       "      <td>11.0</td>\n",
       "      <td>15.0</td>\n",
       "      <td>14.0</td>\n",
       "      <td>11.0</td>\n",
       "      <td>127100.0</td>\n",
       "    </tr>\n",
       "    <tr>\n",
       "      <th>2</th>\n",
       "      <td>190871</td>\n",
       "      <td>Neymar Jr</td>\n",
       "      <td>26</td>\n",
       "      <td>https://cdn.sofifa.org/players/4/19/190871.png</td>\n",
       "      <td>Brazil</td>\n",
       "      <td>https://cdn.sofifa.org/flags/54.png</td>\n",
       "      <td>92</td>\n",
       "      <td>93</td>\n",
       "      <td>Paris Saint-Germain</td>\n",
       "      <td>https://cdn.sofifa.org/teams/2/light/73.png</td>\n",
       "      <td>...</td>\n",
       "      <td>94.0</td>\n",
       "      <td>27.0</td>\n",
       "      <td>24.0</td>\n",
       "      <td>33.0</td>\n",
       "      <td>9.0</td>\n",
       "      <td>9.0</td>\n",
       "      <td>15.0</td>\n",
       "      <td>15.0</td>\n",
       "      <td>11.0</td>\n",
       "      <td>228100.0</td>\n",
       "    </tr>\n",
       "    <tr>\n",
       "      <th>3</th>\n",
       "      <td>193080</td>\n",
       "      <td>De Gea</td>\n",
       "      <td>27</td>\n",
       "      <td>https://cdn.sofifa.org/players/4/19/193080.png</td>\n",
       "      <td>Spain</td>\n",
       "      <td>https://cdn.sofifa.org/flags/45.png</td>\n",
       "      <td>91</td>\n",
       "      <td>93</td>\n",
       "      <td>Manchester United</td>\n",
       "      <td>https://cdn.sofifa.org/teams/2/light/11.png</td>\n",
       "      <td>...</td>\n",
       "      <td>68.0</td>\n",
       "      <td>15.0</td>\n",
       "      <td>21.0</td>\n",
       "      <td>13.0</td>\n",
       "      <td>90.0</td>\n",
       "      <td>85.0</td>\n",
       "      <td>87.0</td>\n",
       "      <td>88.0</td>\n",
       "      <td>94.0</td>\n",
       "      <td>138600.0</td>\n",
       "    </tr>\n",
       "    <tr>\n",
       "      <th>4</th>\n",
       "      <td>192985</td>\n",
       "      <td>K. De Bruyne</td>\n",
       "      <td>27</td>\n",
       "      <td>https://cdn.sofifa.org/players/4/19/192985.png</td>\n",
       "      <td>Belgium</td>\n",
       "      <td>https://cdn.sofifa.org/flags/7.png</td>\n",
       "      <td>91</td>\n",
       "      <td>92</td>\n",
       "      <td>Manchester City</td>\n",
       "      <td>https://cdn.sofifa.org/teams/2/light/10.png</td>\n",
       "      <td>...</td>\n",
       "      <td>88.0</td>\n",
       "      <td>68.0</td>\n",
       "      <td>58.0</td>\n",
       "      <td>51.0</td>\n",
       "      <td>15.0</td>\n",
       "      <td>13.0</td>\n",
       "      <td>5.0</td>\n",
       "      <td>10.0</td>\n",
       "      <td>13.0</td>\n",
       "      <td>196400.0</td>\n",
       "    </tr>\n",
       "  </tbody>\n",
       "</table>\n",
       "<p>5 rows × 88 columns</p>\n",
       "</div>"
      ],
      "text/plain": [
       "       ID               Name  Age  \\\n",
       "0  158023           L. Messi   31   \n",
       "1   20801  Cristiano Ronaldo   33   \n",
       "2  190871          Neymar Jr   26   \n",
       "3  193080             De Gea   27   \n",
       "4  192985       K. De Bruyne   27   \n",
       "\n",
       "                                            Photo Nationality  \\\n",
       "0  https://cdn.sofifa.org/players/4/19/158023.png   Argentina   \n",
       "1   https://cdn.sofifa.org/players/4/19/20801.png    Portugal   \n",
       "2  https://cdn.sofifa.org/players/4/19/190871.png      Brazil   \n",
       "3  https://cdn.sofifa.org/players/4/19/193080.png       Spain   \n",
       "4  https://cdn.sofifa.org/players/4/19/192985.png     Belgium   \n",
       "\n",
       "                                  Flag  Overall  Potential  \\\n",
       "0  https://cdn.sofifa.org/flags/52.png       94         94   \n",
       "1  https://cdn.sofifa.org/flags/38.png       94         94   \n",
       "2  https://cdn.sofifa.org/flags/54.png       92         93   \n",
       "3  https://cdn.sofifa.org/flags/45.png       91         93   \n",
       "4   https://cdn.sofifa.org/flags/7.png       91         92   \n",
       "\n",
       "                  Club                                     Club Logo  ...  \\\n",
       "0         FC Barcelona  https://cdn.sofifa.org/teams/2/light/241.png  ...   \n",
       "1             Juventus   https://cdn.sofifa.org/teams/2/light/45.png  ...   \n",
       "2  Paris Saint-Germain   https://cdn.sofifa.org/teams/2/light/73.png  ...   \n",
       "3    Manchester United   https://cdn.sofifa.org/teams/2/light/11.png  ...   \n",
       "4      Manchester City   https://cdn.sofifa.org/teams/2/light/10.png  ...   \n",
       "\n",
       "  Composure Marking  StandingTackle SlidingTackle  GKDiving  GKHandling  \\\n",
       "0      96.0    33.0            28.0          26.0       6.0        11.0   \n",
       "1      95.0    28.0            31.0          23.0       7.0        11.0   \n",
       "2      94.0    27.0            24.0          33.0       9.0         9.0   \n",
       "3      68.0    15.0            21.0          13.0      90.0        85.0   \n",
       "4      88.0    68.0            58.0          51.0      15.0        13.0   \n",
       "\n",
       "   GKKicking GKPositioning GKReflexes Release Clause  \n",
       "0       15.0          14.0        8.0       226500.0  \n",
       "1       15.0          14.0       11.0       127100.0  \n",
       "2       15.0          15.0       11.0       228100.0  \n",
       "3       87.0          88.0       94.0       138600.0  \n",
       "4        5.0          10.0       13.0       196400.0  \n",
       "\n",
       "[5 rows x 88 columns]"
      ]
     },
     "execution_count": 54,
     "metadata": {},
     "output_type": "execute_result"
    }
   ],
   "source": [
    "# YOUR CODE HERE\n",
    "#raise NotImplementedError()\n",
    "df = pd.read_csv('./fifa.csv')\n",
    "df.head()"
   ]
  },
  {
   "cell_type": "code",
   "execution_count": 55,
   "metadata": {
    "deletable": false,
    "editable": false,
    "nbgrader": {
     "cell_type": "code",
     "checksum": "cacece4903e2605ddade6ac7f59673d1",
     "grade": true,
     "grade_id": "cell-40c6c91273593f1f",
     "locked": true,
     "points": 1,
     "schema_version": 3,
     "solution": false,
     "task": false
    }
   },
   "outputs": [],
   "source": [
    "# This test confirms that you have created a DataFrame named df\n",
    "\n",
    "assert type(df) == pd.DataFrame\n"
   ]
  },
  {
   "cell_type": "markdown",
   "metadata": {
    "deletable": false,
    "editable": false,
    "nbgrader": {
     "cell_type": "markdown",
     "checksum": "0b9b553dfd5630ed9866435ee9a9fced",
     "grade": false,
     "grade_id": "cell-42ef866849a4d833",
     "locked": true,
     "schema_version": 3,
     "solution": false,
     "task": false
    }
   },
   "source": [
    "### 1.2) Convert the `'Release Clause'` values from Euros to dollars\n",
    "\n",
    "The `'Release Clause'` variable contains prices denominated in Euros. Use the exchange rate `1 Euro = 1.2 Dollars` to convert the prices to dollars. "
   ]
  },
  {
   "cell_type": "code",
   "execution_count": null,
   "metadata": {},
   "outputs": [],
   "source": []
  },
  {
   "cell_type": "code",
   "execution_count": 56,
   "metadata": {
    "deletable": false,
    "nbgrader": {
     "cell_type": "code",
     "checksum": "c5534ca8a0de72206f176b1243d1e113",
     "grade": false,
     "grade_id": "cell-7dea27dfb0840749",
     "locked": false,
     "schema_version": 3,
     "solution": true,
     "task": false
    }
   },
   "outputs": [
    {
     "data": {
      "text/plain": [
       "0        271800.0\n",
       "1        152520.0\n",
       "2        273720.0\n",
       "3        166320.0\n",
       "4        235680.0\n",
       "           ...   \n",
       "18202    171600.0\n",
       "18203    135600.0\n",
       "18204    198000.0\n",
       "18205    171600.0\n",
       "18206    198000.0\n",
       "Name: Release Clause (Dollars), Length: 18207, dtype: float64"
      ]
     },
     "execution_count": 56,
     "metadata": {},
     "output_type": "execute_result"
    }
   ],
   "source": [
    "# YOUR CODE HERE\n",
    "#raise NotImplementedError()\n",
    "euro_to_dollar_rate = 1.2\n",
    "\n",
    "df['Release Clause (Dollars)'] = df['Release Clause'] * euro_to_dollar_rate\n",
    "euro_to_dollar_rate = 1.2\n",
    "\n",
    "# Convert 'Release Clause' from Euros to Dollars\n",
    "df['Release Clause (Dollars)']"
   ]
  },
  {
   "cell_type": "code",
   "execution_count": null,
   "metadata": {},
   "outputs": [],
   "source": []
  },
  {
   "cell_type": "code",
   "execution_count": 57,
   "metadata": {
    "deletable": false,
    "editable": false,
    "nbgrader": {
     "cell_type": "code",
     "checksum": "a24d00d465ef74b4cd69bfdeb27f6a66",
     "grade": true,
     "grade_id": "cell-722ee65f73aaf88b",
     "locked": true,
     "points": 1,
     "schema_version": 3,
     "solution": false,
     "task": false
    }
   },
   "outputs": [],
   "source": [
    "# Ignore this cell\n"
   ]
  },
  {
   "cell_type": "markdown",
   "metadata": {
    "deletable": false,
    "editable": false,
    "nbgrader": {
     "cell_type": "markdown",
     "checksum": "e3482602ba928f85714f1e479f24dab5",
     "grade": false,
     "grade_id": "cell-e9a1540ffff85098",
     "locked": true,
     "schema_version": 3,
     "solution": false,
     "task": false
    }
   },
   "source": [
    "### 1.3) Drop rows from `df` with missing values for the `'Release Clause'` feature.\n",
    "    \n",
    "Make sure that `df` remains the name of the dataset with the dropped rows."
   ]
  },
  {
   "cell_type": "code",
   "execution_count": 66,
   "metadata": {
    "deletable": false,
    "nbgrader": {
     "cell_type": "code",
     "checksum": "07d3910049c82d0ccb1cee469696e53f",
     "grade": false,
     "grade_id": "cell-389eaeac18624fad",
     "locked": false,
     "schema_version": 3,
     "solution": true,
     "task": false
    }
   },
   "outputs": [
    {
     "data": {
      "text/plain": [
       "0    226500.0\n",
       "1    127100.0\n",
       "2    228100.0\n",
       "3    138600.0\n",
       "4    196400.0\n",
       "Name: Release Clause, dtype: float64"
      ]
     },
     "execution_count": 66,
     "metadata": {},
     "output_type": "execute_result"
    }
   ],
   "source": [
    "# YOUR CODE HERE\n",
    "#raise NotImplementedError()\n",
    "df = df.dropna(subset=['Release Clause'])\n",
    "df['Release Clause'].head()"
   ]
  },
  {
   "cell_type": "code",
   "execution_count": 67,
   "metadata": {
    "deletable": false,
    "editable": false,
    "nbgrader": {
     "cell_type": "code",
     "checksum": "5b833f8f9550a85640325fb8fbde98b3",
     "grade": true,
     "grade_id": "cell-d9fc548551ee3f7e",
     "locked": true,
     "points": 1,
     "schema_version": 3,
     "solution": false,
     "task": false
    }
   },
   "outputs": [],
   "source": [
    "# This test confirms that your dataset has the correct number of observations after dropping\n",
    "\n",
    "assert df['Release Clause'].shape[0] == 16643\n"
   ]
  },
  {
   "cell_type": "markdown",
   "metadata": {
    "deletable": false,
    "editable": false,
    "nbgrader": {
     "cell_type": "markdown",
     "checksum": "f55cb851c3aeac1e96b9c91bcf87080c",
     "grade": false,
     "grade_id": "cell-be6ad3929cc953e5",
     "locked": true,
     "schema_version": 3,
     "solution": false,
     "task": false
    }
   },
   "source": [
    "### 1.4) Create a list `top_10_countries` containing the names of the 10 countries with the most players (using the `'Nationality'` column).\n",
    "\n",
    "Hint: Your answer should include England, Germany, Spain, France, and Argentina"
   ]
  },
  {
   "cell_type": "markdown",
   "metadata": {
    "deletable": false,
    "editable": false,
    "nbgrader": {
     "cell_type": "markdown",
     "checksum": "2371eeae60572044f0e60301bcb5ed65",
     "grade": false,
     "grade_id": "cell-a33121d22f5d8535",
     "locked": true,
     "schema_version": 3,
     "solution": false,
     "task": false
    }
   },
   "source": [
    "**Starter Code**\n",
    "\n",
    "    top_10_countries = "
   ]
  },
  {
   "cell_type": "code",
   "execution_count": 69,
   "metadata": {
    "deletable": false,
    "nbgrader": {
     "cell_type": "code",
     "checksum": "41182dd319c608fbc790c2959b04d84c",
     "grade": false,
     "grade_id": "cell-f2a7bdcc98878531",
     "locked": false,
     "schema_version": 3,
     "solution": true,
     "task": false
    }
   },
   "outputs": [
    {
     "data": {
      "text/plain": [
       "['England',\n",
       " 'Germany',\n",
       " 'Spain',\n",
       " 'France',\n",
       " 'Argentina',\n",
       " 'Brazil',\n",
       " 'Italy',\n",
       " 'Colombia',\n",
       " 'Japan',\n",
       " 'Netherlands']"
      ]
     },
     "execution_count": 69,
     "metadata": {},
     "output_type": "execute_result"
    }
   ],
   "source": [
    "# YOUR CODE HERE\n",
    "#raise NotImplementedError()\n",
    "nationality_counts = df['Nationality'].value_counts() \n",
    "top_10_countries = nationality_counts.head(10).index.tolist()\n",
    "top_10_countries"
   ]
  },
  {
   "cell_type": "code",
   "execution_count": 61,
   "metadata": {
    "deletable": false,
    "editable": false,
    "nbgrader": {
     "cell_type": "code",
     "checksum": "32fd183a55844499cf48eec9eaaea810",
     "grade": true,
     "grade_id": "cell-a5bfa46eb38629b9",
     "locked": true,
     "points": 1,
     "schema_version": 3,
     "solution": false,
     "task": false
    }
   },
   "outputs": [],
   "source": [
    "# This test confirms that you have created a list named top_10_countries\n",
    "\n",
    "assert type(top_10_countries) == list\n",
    "\n",
    "# This test confirms that top_10_countries contains England, Germany, Spain, France, and Argentina\n",
    "\n",
    "assert set(['England', 'Germany', 'Spain', 'France', 'Argentina']).issubset(set(top_10_countries))\n"
   ]
  },
  {
   "cell_type": "markdown",
   "metadata": {
    "deletable": false,
    "editable": false,
    "nbgrader": {
     "cell_type": "markdown",
     "checksum": "76b3f140712b8dc910795c6ac6b9d90e",
     "grade": false,
     "grade_id": "cell-f9d5841f356a5a8a",
     "locked": true,
     "schema_version": 3,
     "solution": false,
     "task": false
    }
   },
   "source": [
    "## Part 2: Data Visualization [Suggested Time: 20 minutes]\n",
    "This part uses the same FIFA dataset, and asks you to plot data using `matplotlib`."
   ]
  },
  {
   "cell_type": "code",
   "execution_count": 62,
   "metadata": {
    "deletable": false,
    "editable": false,
    "nbgrader": {
     "cell_type": "code",
     "checksum": "205091c21e0df074b1fa7435ec334b38",
     "grade": false,
     "grade_id": "cell-0b27595ca9348a59",
     "locked": true,
     "schema_version": 3,
     "solution": false,
     "task": false
    }
   },
   "outputs": [],
   "source": [
    "# Run this cell\n",
    "\n",
    "import matplotlib\n",
    "import matplotlib.pyplot as plt\n",
    "\n",
    "%matplotlib inline"
   ]
  },
  {
   "cell_type": "markdown",
   "metadata": {
    "deletable": false,
    "editable": false,
    "nbgrader": {
     "cell_type": "markdown",
     "checksum": "298c2b199e8e4ab8f9e9540c4eb7f1de",
     "grade": false,
     "grade_id": "cell-112f61d031df8fca",
     "locked": true,
     "schema_version": 3,
     "solution": false,
     "task": false
    }
   },
   "source": [
    "### 2.1) Create a matplotlib figure `player_count_figure` containing a labeled bar chart with the number of players from England, Germany, Spain, France, and Argentina\n",
    "\n",
    "Use the strings provided below (`bar_chart_title`, `bar_chart_count_label`, and `bar_chart_series_label`) to title and label your bar chart. \n",
    "\n",
    "Hint: These are the countries with the top 5 numbers of players, so you may be able to adapt some of the code you used for question 1.4. If you were unable to complete 1.4, use the following values:\n",
    "\n",
    "```\n",
    "Country Name  | Num Players\n",
    "============  | ===========\n",
    "England       | 1000\n",
    "Germany       | 900\n",
    "Spain         | 800\n",
    "France        | 700\n",
    "Argentina     | 600\n",
    "```"
   ]
  },
  {
   "cell_type": "markdown",
   "metadata": {
    "deletable": false,
    "editable": false,
    "nbgrader": {
     "cell_type": "markdown",
     "checksum": "67a111287e72181ca0cf457884d08b86",
     "grade": false,
     "grade_id": "cell-3b75802577579ca2",
     "locked": true,
     "schema_version": 3,
     "solution": false,
     "task": false
    }
   },
   "source": [
    "**Starter Code**\n",
    "\n",
    "    player_count_figure, ax = plt.subplots(figsize=(10, 6))"
   ]
  },
  {
   "cell_type": "code",
   "execution_count": 72,
   "metadata": {
    "deletable": false,
    "nbgrader": {
     "cell_type": "code",
     "checksum": "f11df4e2eeeba43ec2328af96b36734f",
     "grade": false,
     "grade_id": "cell-248dd5aab2bb2f87",
     "locked": false,
     "schema_version": 3,
     "solution": true,
     "task": false
    }
   },
   "outputs": [
    {
     "data": {
      "image/png": "[encoded data removed]",
      "text/plain": [
       "<Figure size 720x432 with 1 Axes>"
      ]
     },
     "metadata": {
      "needs_background": "light"
     },
     "output_type": "display_data"
    }
   ],
   "source": [
    "bar_chart_countries = ['England', 'Germany', 'Spain', 'France', 'Argentina']\n",
    "\n",
    "bar_chart_title = 'yers'\n",
    "bar_chart_count_label = 'Number of Players'\n",
    "bar_chart_series_label = 'Nationality'\n",
    "\n",
    "# YOUR CODE HERE\n",
    "nationalities = ['England', 'Germany', 'Spain', 'France', 'Argentina']\n",
    "filtered_df = df[df['Nationality'].isin(nationalities)]\n",
    "\n",
    "# Count the number of players for each nationality\n",
    "nationality_counts = filtered_df['Nationality'].value_counts()\n",
    "#raise NotImplementedError()\n",
    "player_count_figure, ax = plt.subplots(figsize=(10, 6))\n",
    "plt.bar(nationality_counts.index, nationality_counts.values, color='skyblue')\n",
    "plt.xlabel('Nationality')\n",
    "plt.ylabel('Number of Players')\n",
    "plt.title('Number of Players by Nationality')\n",
    "\n",
    "\n",
    "plt.xticks(rotation=45)\n",
    "\n",
    "plt.tight_layout()\n",
    "plt.show()\n",
    "\n"
   ]
  },
  {
   "cell_type": "code",
   "execution_count": 74,
   "metadata": {
    "deletable": false,
    "editable": false,
    "nbgrader": {
     "cell_type": "code",
     "checksum": "bc3f336499f7a7cbdbbc9b159e94613d",
     "grade": true,
     "grade_id": "cell-128f21e6161d6c70",
     "locked": true,
     "points": 1,
     "schema_version": 3,
     "solution": false,
     "task": false
    }
   },
   "outputs": [],
   "source": [
    "# This test confirms that you have created a figure named player_count_figure\n",
    "\n",
    "assert type(player_count_figure) == plt.Figure\n",
    "\n",
    "# This test confirms that the figure contains exactly one axis\n",
    "\n",
    "assert len(player_count_figure.axes) == 1\n"
   ]
  },
  {
   "cell_type": "code",
   "execution_count": 73,
   "metadata": {
    "deletable": false,
    "editable": false,
    "nbgrader": {
     "cell_type": "code",
     "checksum": "77e83483f6888120e16ff7399606009f",
     "grade": true,
     "grade_id": "cell-dec8d410badba377",
     "locked": true,
     "points": 1,
     "schema_version": 3,
     "solution": false,
     "task": false
    }
   },
   "outputs": [],
   "source": [
    "# These tests confirm that the figure has a title and axis labels \n",
    "\n",
    "assert player_count_figure.axes[0].get_title() != ''\n",
    "assert player_count_figure.axes[0].get_ylabel() != ''\n",
    "assert player_count_figure.axes[0].get_xlabel() != ''\n"
   ]
  },
  {
   "cell_type": "markdown",
   "metadata": {
    "deletable": false,
    "editable": false,
    "nbgrader": {
     "cell_type": "markdown",
     "checksum": "f8e98bdb4a0b091546dc3399ce37a76b",
     "grade": false,
     "grade_id": "cell-70190139727d20a2",
     "locked": true,
     "schema_version": 3,
     "solution": false,
     "task": false
    }
   },
   "source": [
    "### 2.2) Create a matplotlib figure `tackle_figure` containing a labeled scatter plot visualizing the relationship between `StandingTackle` (on X axis) and `SlidingTackle` (on Y axis)\n",
    "\n",
    "Use the strings provided below (`scatter_plot_title`, `standing_tackle_label`, and `sliding_tackle_label`) to title and label your scatter plot. "
   ]
  },
  {
   "cell_type": "markdown",
   "metadata": {
    "deletable": false,
    "editable": false,
    "nbgrader": {
     "cell_type": "markdown",
     "checksum": "d4d11c0a1bfb7f03ddffc44685a87f44",
     "grade": false,
     "grade_id": "cell-a40b547bb6df762b",
     "locked": true,
     "schema_version": 3,
     "solution": false,
     "task": false
    }
   },
   "source": [
    "**Starter Code**\n",
    "\n",
    "    tackle_figure, ax = plt.subplots(figsize=(10, 6))"
   ]
  },
  {
   "cell_type": "code",
   "execution_count": 77,
   "metadata": {
    "deletable": false,
    "nbgrader": {
     "cell_type": "code",
     "checksum": "8bb54c55fcddc9287c7ba6a854d397d2",
     "grade": false,
     "grade_id": "cell-064cad4a79f53237",
     "locked": false,
     "schema_version": 3,
     "solution": true,
     "task": false
    }
   },
   "outputs": [
    {
     "data": {
      "image/png": "[encoded data removed]",
      "text/plain": [
       "<Figure size 720x432 with 1 Axes>"
      ]
     },
     "metadata": {
      "needs_background": "light"
     },
     "output_type": "display_data"
    }
   ],
   "source": [
    "scatter_plot_title = 'Relationship Between Standing Tackles and Sliding Tackles'\n",
    "standing_tackle_label = 'Standing Tackles'\n",
    "sliding_tackle_label = 'Sliding Tackles'\n",
    "\n",
    "standing_tackle = df['StandingTackle'].head(5)\n",
    "sliding_tackle = df['SlidingTackle'].head(5)\n",
    "\n",
    "tackle_figure, ax = plt.subplots(figsize=(10, 6))\n",
    "\n",
    "# Create a scatter plot\n",
    "plt.scatter(standing_tackle, sliding_tackle, alpha=0.5, color='red')\n",
    "\n",
    "# Add labels and title\n",
    "plt.xlabel('Standing Tackle')\n",
    "plt.ylabel('Sliding Tackle')\n",
    "plt.title('Relationship between Standing Tackle and Sliding Tackle')\n",
    "\n",
    "# Show the plot\n",
    "plt.tight_layout()\n",
    "plt.show()\n",
    "\n",
    "# YOUR CODE HERE\n",
    "#raise NotImplementedError()"
   ]
  },
  {
   "cell_type": "code",
   "execution_count": 78,
   "metadata": {
    "deletable": false,
    "editable": false,
    "nbgrader": {
     "cell_type": "code",
     "checksum": "3ad292ade273a746843bde7ed222b686",
     "grade": true,
     "grade_id": "cell-7fc1fc24025435b8",
     "locked": true,
     "points": 1,
     "schema_version": 3,
     "solution": false,
     "task": false
    }
   },
   "outputs": [],
   "source": [
    "# This test confirms that you have created a figure named tackle_figure\n",
    "\n",
    "assert type(tackle_figure) == plt.Figure\n",
    "\n",
    "# This test confirms that the figure contains exactly one axis\n",
    "\n",
    "assert len(tackle_figure.axes) == 1\n"
   ]
  },
  {
   "cell_type": "markdown",
   "metadata": {
    "deletable": false,
    "editable": false,
    "nbgrader": {
     "cell_type": "markdown",
     "checksum": "725d30f1f2ac7f418801ae4cd0390115",
     "grade": false,
     "grade_id": "cell-d6d6af6c94216981",
     "locked": true,
     "schema_version": 3,
     "solution": false,
     "task": false
    }
   },
   "source": [
    "## Part 3: Exploring Statistical Data [Suggested Time: 20 minutes]\n",
    "This part does some exploratory analysis using the same FIFA dataset."
   ]
  },
  {
   "cell_type": "markdown",
   "metadata": {
    "deletable": false,
    "editable": false,
    "nbgrader": {
     "cell_type": "markdown",
     "checksum": "71a1bad69874002e5a0a59105dd4659f",
     "grade": false,
     "grade_id": "cell-1f6263e9b6ccbe48",
     "locked": true,
     "schema_version": 3,
     "solution": false,
     "task": false
    }
   },
   "source": [
    "### 3.1) Create numeric variables `mean_age` and `median_age` containing the mean and median player ages (respectively)."
   ]
  },
  {
   "cell_type": "markdown",
   "metadata": {
    "deletable": false,
    "editable": false,
    "nbgrader": {
     "cell_type": "markdown",
     "checksum": "7f51a0b5efd899bc746ebaf19d77f387",
     "grade": false,
     "grade_id": "cell-8182a47b74d8308c",
     "locked": true,
     "schema_version": 3,
     "solution": false,
     "task": false
    }
   },
   "source": [
    "**Starter Code**\n",
    "\n",
    "    mean_age = \n",
    "    median_age = "
   ]
  },
  {
   "cell_type": "code",
   "execution_count": 79,
   "metadata": {
    "deletable": false,
    "nbgrader": {
     "cell_type": "code",
     "checksum": "aee75eef2da987118de986c01a96bfb6",
     "grade": false,
     "grade_id": "cell-236fe375f6c9327c",
     "locked": false,
     "schema_version": 3,
     "solution": true,
     "task": false
    }
   },
   "outputs": [
    {
     "name": "stdout",
     "output_type": "stream",
     "text": [
      "25.226221234152497\n",
      "25.0\n"
     ]
    }
   ],
   "source": [
    "# YOUR CODE HERE\n",
    "#raise NotImplementedError()\n",
    "mean_age = df['Age'].mean()\n",
    "median_age = df['Age'].median()\n",
    "print(mean_age)\n",
    "print(median_age)"
   ]
  },
  {
   "cell_type": "code",
   "execution_count": 80,
   "metadata": {
    "deletable": false,
    "editable": false,
    "nbgrader": {
     "cell_type": "code",
     "checksum": "c1c19d030e4900bdc3bbb5be4e4129ea",
     "grade": true,
     "grade_id": "cell-f71047bc869336cf",
     "locked": true,
     "points": 1,
     "schema_version": 3,
     "solution": false,
     "task": false
    }
   },
   "outputs": [],
   "source": [
    "# These tests confirm that you have created numeric variables named mean_age and median_age\n",
    "\n",
    "assert isinstance(mean_age, Number)\n",
    "assert isinstance(median_age, Number)\n"
   ]
  },
  {
   "cell_type": "markdown",
   "metadata": {
    "deletable": false,
    "editable": false,
    "nbgrader": {
     "cell_type": "markdown",
     "checksum": "7d2849bb5c6c467e1f9943b62451b29a",
     "grade": false,
     "grade_id": "cell-53c00926ddd0e281",
     "locked": true,
     "schema_version": 3,
     "solution": false,
     "task": false
    }
   },
   "source": [
    "### 3.2) Create numeric variables `oldest_argentine_name` and `oldest_argentine_age` containing the name and age (respectively) of the oldest player with Argentina nationality."
   ]
  },
  {
   "cell_type": "markdown",
   "metadata": {
    "deletable": false,
    "editable": false,
    "nbgrader": {
     "cell_type": "markdown",
     "checksum": "39b343f43bf2cd30af80d9768e05ae1d",
     "grade": false,
     "grade_id": "cell-8a8f465bb935cc1a",
     "locked": true,
     "schema_version": 3,
     "solution": false,
     "task": false
    }
   },
   "source": [
    "**Starter Code**\n",
    "\n",
    "    oldest_argentine_name = \n",
    "    oldest_argentine_age = "
   ]
  },
  {
   "cell_type": "code",
   "execution_count": 81,
   "metadata": {
    "deletable": false,
    "nbgrader": {
     "cell_type": "code",
     "checksum": "dce1fee6a731ea4e7523d75597d79192",
     "grade": false,
     "grade_id": "cell-0c07eea0bdc0dfa4",
     "locked": false,
     "schema_version": 3,
     "solution": true,
     "task": false
    }
   },
   "outputs": [
    {
     "name": "stdout",
     "output_type": "stream",
     "text": [
      "Oldest Argentine Player Name: C. Muñoz\n",
      "Oldest Argentine Player Age: 41\n"
     ]
    }
   ],
   "source": [
    "# YOUR CODE HERE\n",
    "#raise NotImplementedError()\n",
    "argentine_players = df[df['Nationality'] == 'Argentina']\n",
    "\n",
    "# Find the oldest player\n",
    "oldest_player = argentine_players[argentine_players['Age'] == argentine_players['Age'].max()]\n",
    "\n",
    "# Extract the name and age of the oldest player\n",
    "oldest_argentine_name = oldest_player['Name'].values[0]\n",
    "oldest_argentine_age = oldest_player['Age'].values[0]\n",
    "\n",
    "print(f\"Oldest Argentine Player Name: {oldest_argentine_name}\")\n",
    "print(f\"Oldest Argentine Player Age: {oldest_argentine_age}\")"
   ]
  },
  {
   "cell_type": "code",
   "execution_count": 82,
   "metadata": {
    "deletable": false,
    "editable": false,
    "nbgrader": {
     "cell_type": "code",
     "checksum": "a5c47c67beb6766b7ee20e79609633ee",
     "grade": true,
     "grade_id": "cell-469be575f68081da",
     "locked": true,
     "points": 1,
     "schema_version": 3,
     "solution": false,
     "task": false
    }
   },
   "outputs": [],
   "source": [
    "# This test confirms that you have created a string variable named oldest_argentine_name\n",
    "\n",
    "assert type(oldest_argentine_name) == str\n",
    "\n",
    "# This test confirms that you have created a numeric variable named oldest_argentine_age\n",
    "\n",
    "assert isinstance(oldest_argentine_age, Number)\n"
   ]
  },
  {
   "cell_type": "markdown",
   "metadata": {
    "deletable": false,
    "editable": false,
    "nbgrader": {
     "cell_type": "markdown",
     "checksum": "e4dd527d90fc17199611fb6d879fd823",
     "grade": false,
     "grade_id": "cell-a7ce98ae6d482777",
     "locked": true,
     "schema_version": 3,
     "solution": false,
     "task": false
    }
   },
   "source": [
    "## Part 4: Python Data Structures [Suggested Time: 20 min]\n",
    "\n",
    "Below is a dictionary `players` with information about soccer players. The keys are player names and the values are dictionaries containing each player's age, nationality, and a list of teams they have played for."
   ]
  },
  {
   "cell_type": "code",
   "execution_count": 83,
   "metadata": {
    "deletable": false,
    "editable": false,
    "nbgrader": {
     "cell_type": "code",
     "checksum": "74845850d3bd46f86a083f97cd6a2fbb",
     "grade": false,
     "grade_id": "cell-aeec0f73b4c2686e",
     "locked": true,
     "schema_version": 3,
     "solution": false,
     "task": false
    }
   },
   "outputs": [],
   "source": [
    "# Run this cell\n",
    "\n",
    "players = {\n",
    "    'L. Messi': {\n",
    "        'age': 31,\n",
    "        'nationality': 'Argentina',\n",
    "        'teams': ['Barcelona']\n",
    "    },\n",
    "    'Cristiano Ronaldo': {\n",
    "        'age': 33,\n",
    "        'nationality': 'Portugal',\n",
    "        'teams': ['Juventus', 'Real Madrid', 'Manchester United']\n",
    "    },\n",
    "    'Neymar Jr': {\n",
    "        'age': 26,\n",
    "        'nationality': 'Brazil',\n",
    "        'teams': ['Santos', 'Barcelona', 'Paris Saint-German']\n",
    "    },\n",
    "    'De Gea': {\n",
    "        'age': 27,\n",
    "        'nationality': 'Spain',\n",
    "        'teams': ['Atletico Madrid', 'Manchester United']\n",
    "    },\n",
    "    'K. De Bruyne': {\n",
    "        'age': 27,\n",
    "        'nationality': 'Belgium',\n",
    "        'teams': ['Chelsea', 'Manchester City']\n",
    "    }\n",
    "}"
   ]
  },
  {
   "cell_type": "markdown",
   "metadata": {
    "deletable": false,
    "editable": false,
    "nbgrader": {
     "cell_type": "markdown",
     "checksum": "ccba4689305d3694730ed64cc3630117",
     "grade": false,
     "grade_id": "cell-c53443152551683e",
     "locked": true,
     "schema_version": 3,
     "solution": false,
     "task": false
    }
   },
   "source": [
    "### 4.1) Create a list `player_names` of all the player names in dictionary `players`. "
   ]
  },
  {
   "cell_type": "markdown",
   "metadata": {
    "deletable": false,
    "editable": false,
    "nbgrader": {
     "cell_type": "markdown",
     "checksum": "3b0b5c114c1d8a1dc0a7bd0614bb36e5",
     "grade": false,
     "grade_id": "cell-59b73bc797a324dd",
     "locked": true,
     "schema_version": 3,
     "solution": false,
     "task": false
    }
   },
   "source": [
    "**Starter Code**\n",
    "\n",
    "    player_names = "
   ]
  },
  {
   "cell_type": "code",
   "execution_count": 84,
   "metadata": {
    "deletable": false,
    "nbgrader": {
     "cell_type": "code",
     "checksum": "326610a1dd8683908588dce877596dc4",
     "grade": false,
     "grade_id": "cell-7c9289df331d0247",
     "locked": false,
     "schema_version": 3,
     "solution": true,
     "task": false
    }
   },
   "outputs": [
    {
     "data": {
      "text/plain": [
       "['L. Messi', 'Cristiano Ronaldo', 'Neymar Jr', 'De Gea', 'K. De Bruyne']"
      ]
     },
     "execution_count": 84,
     "metadata": {},
     "output_type": "execute_result"
    }
   ],
   "source": [
    "# YOUR CODE HERE\n",
    "#raise NotImplementedError()\n",
    "player_names = list(players.keys())\n",
    "player_names\n"
   ]
  },
  {
   "cell_type": "code",
   "execution_count": 85,
   "metadata": {
    "deletable": false,
    "editable": false,
    "nbgrader": {
     "cell_type": "code",
     "checksum": "5fdf4e999a0fe0e2ba14b7a5bf7ffc73",
     "grade": true,
     "grade_id": "cell-5d33a8eee819cb46",
     "locked": true,
     "points": 1,
     "schema_version": 3,
     "solution": false,
     "task": false
    }
   },
   "outputs": [],
   "source": [
    "# This test confirms that you have created a list named player_names\n",
    "\n",
    "assert type(player_names) == list\n"
   ]
  },
  {
   "cell_type": "markdown",
   "metadata": {
    "deletable": false,
    "editable": false,
    "nbgrader": {
     "cell_type": "markdown",
     "checksum": "06528e38187a6ff39e647f0c40eef474",
     "grade": false,
     "grade_id": "cell-b9f6a94ed0a0865e",
     "locked": true,
     "schema_version": 3,
     "solution": false,
     "task": false
    }
   },
   "source": [
    "### 4.2) Create a list of tuples `player_nationalities` containing each player's name along with their nationality."
   ]
  },
  {
   "cell_type": "markdown",
   "metadata": {
    "deletable": false,
    "editable": false,
    "nbgrader": {
     "cell_type": "markdown",
     "checksum": "fb799929d73836edd110fd711b310b37",
     "grade": false,
     "grade_id": "cell-b52f98d5a617ecee",
     "locked": true,
     "schema_version": 3,
     "solution": false,
     "task": false
    }
   },
   "source": [
    "**Starter Code**\n",
    "\n",
    "    player_nationalities = "
   ]
  },
  {
   "cell_type": "code",
   "execution_count": 86,
   "metadata": {
    "deletable": false,
    "nbgrader": {
     "cell_type": "code",
     "checksum": "e272911e07f5fd6e63264e98caf1cf4d",
     "grade": false,
     "grade_id": "cell-f14953191eda7561",
     "locked": false,
     "schema_version": 3,
     "solution": true,
     "task": false
    }
   },
   "outputs": [
    {
     "data": {
      "text/plain": [
       "[('L. Messi', 'Argentina'),\n",
       " ('Cristiano Ronaldo', 'Portugal'),\n",
       " ('Neymar Jr', 'Brazil'),\n",
       " ('De Gea', 'Spain'),\n",
       " ('K. De Bruyne', 'Belgium')]"
      ]
     },
     "execution_count": 86,
     "metadata": {},
     "output_type": "execute_result"
    }
   ],
   "source": [
    "# YOUR CODE HERE\n",
    "#raise NotImplementedError()\n",
    "player_nationalities = [(name, info['nationality']) for name, info in players.items()]\n",
    "player_nationalities"
   ]
  },
  {
   "cell_type": "code",
   "execution_count": 87,
   "metadata": {
    "deletable": false,
    "editable": false,
    "nbgrader": {
     "cell_type": "code",
     "checksum": "91688b8f74ceef592ecc9efbb349a1eb",
     "grade": true,
     "grade_id": "cell-2e0f87d9c0c4cbb1",
     "locked": true,
     "points": 1,
     "schema_version": 3,
     "solution": false,
     "task": false
    }
   },
   "outputs": [],
   "source": [
    "# This test confirms that you have created a list named player_nationalities\n",
    "\n",
    "assert type(player_nationalities) == list\n"
   ]
  },
  {
   "cell_type": "markdown",
   "metadata": {
    "deletable": false,
    "editable": false,
    "nbgrader": {
     "cell_type": "markdown",
     "checksum": "1175810b47b5ac3d93583aa9618b0b5d",
     "grade": false,
     "grade_id": "cell-87a014f4e268c1d7",
     "locked": true,
     "schema_version": 3,
     "solution": false,
     "task": false
    }
   },
   "source": [
    "### 4.3) Define a function `get_players_on_team()` that returns a list of names of all the players who have played on a given team.\n",
    "\n",
    "Your function should take two arguments:\n",
    "\n",
    "- A dictionary of player information\n",
    "- A string containing a team name (for which you are trying to find the player names)"
   ]
  },
  {
   "cell_type": "markdown",
   "metadata": {
    "deletable": false,
    "editable": false,
    "nbgrader": {
     "cell_type": "markdown",
     "checksum": "18854da940f17f98f0d4951599dceafb",
     "grade": false,
     "grade_id": "cell-9546ae6235a3a164",
     "locked": true,
     "schema_version": 3,
     "solution": false,
     "task": false
    }
   },
   "source": [
    "**Starter Code**\n",
    "\n",
    "    def get_players_on_team(player_dict, team_name):\n",
    "        player_list = []\n",
    "    \n",
    "        return player_list"
   ]
  },
  {
   "cell_type": "code",
   "execution_count": 90,
   "metadata": {
    "deletable": false,
    "nbgrader": {
     "cell_type": "code",
     "checksum": "7b12fad4f24ec822e6d2b6255149e503",
     "grade": false,
     "grade_id": "cell-365f0240380ce928",
     "locked": false,
     "schema_version": 3,
     "solution": true,
     "task": false
    }
   },
   "outputs": [],
   "source": [
    "# YOUR CODE HERE\n",
    "#raise NotImplementedError()\n",
    "def get_players_on_team(player_dict, team_name):\n",
    "    \n",
    "    player_list = []\n",
    "    for player, info in player_dict.items():\n",
    "        if team_name in info.get('teams', []):\n",
    "            player_list.append(player)\n",
    "    return player_list\n"
   ]
  },
  {
   "cell_type": "code",
   "execution_count": 89,
   "metadata": {
    "deletable": false,
    "editable": false,
    "nbgrader": {
     "cell_type": "code",
     "checksum": "f4984b4f9f03a8aff06898790d09f2e5",
     "grade": true,
     "grade_id": "cell-e74522c0d595f7fd",
     "locked": true,
     "points": 2,
     "schema_version": 3,
     "solution": false,
     "task": false
    }
   },
   "outputs": [],
   "source": [
    "# This test confirms that get_players_on_team() returns the right names for Manchester United\n",
    "\n",
    "manchester_united_players = ['Cristiano Ronaldo', 'De Gea']\n",
    "players_on_manchester_united = get_players_on_team(players, 'Manchester United')\n",
    "\n",
    "assert players_on_manchester_united == manchester_united_players\n"
   ]
  }
 ],
 "metadata": {
  "kernelspec": {
   "display_name": "Python 3",
   "language": "python",
   "name": "python3"
  },
  "language_info": {
   "codemirror_mode": {
    "name": "ipython",
    "version": 3
   },
   "file_extension": ".py",
   "mimetype": "text/x-python",
   "name": "python",
   "nbconvert_exporter": "python",
   "pygments_lexer": "ipython3",
   "version": "3.8.5"
  }
 },
 "nbformat": 4,
 "nbformat_minor": 4
}
